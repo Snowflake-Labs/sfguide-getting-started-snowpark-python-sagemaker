{
 "cells": [
  {
   "cell_type": "code",
   "execution_count": null,
   "id": "5ab54974",
   "metadata": {},
   "outputs": [],
   "source": [
    "# if the conda install failed in the previous step of the quickstart please uncomment and run the following code to install the neccessary pacakges using pip\n",
    "# !pip install snowflake-snowpark-python pandas notebook scikit-learn cachetools pyarrow==10.0.1"
   ]
  },
  {
   "cell_type": "markdown",
   "id": "ca55fc73-9400-4e8d-9981-9483f4b51ec4",
   "metadata": {},
   "source": [
    "## Imports"
   ]
  },
  {
   "cell_type": "code",
   "execution_count": null,
   "id": "17795b39",
   "metadata": {},
   "outputs": [],
   "source": [
    "# if the conda install failed in the previous step of the quickstart please uncomment and run the following code to install the neccessary pacakges using pip\n",
    "# pip install snowflake-snowpark-python pandas notebook scikit-learn cachetools pyarrow==10.0.1"
   ]
  },
  {
   "cell_type": "code",
   "execution_count": null,
   "id": "a890851e-2c50-4e29-96cc-f3a58e574bb0",
   "metadata": {
    "tags": []
   },
   "outputs": [],
   "source": [
    "from snowflake.snowpark.session import Session\n",
    "import pandas as pd"
   ]
  },
  {
   "cell_type": "markdown",
   "id": "0d83105c-5f25-4fd5-aa43-f6c118171af9",
   "metadata": {},
   "source": [
    "## Create Snowpark Connection"
   ]
  },
  {
   "cell_type": "code",
   "execution_count": null,
   "id": "99020681-0f36-4cdd-860c-5af1b0a647bf",
   "metadata": {
    "tags": []
   },
   "outputs": [],
   "source": [
    "connection_parameters = {\n",
    "    \"account\": \"\", # e.g. xy12345.us-east-2.aws\n",
    "    \"user\": \"\", \n",
    "    \"password\": \"\",\n",
    "    \"role\": \"ACCOUNTADMIN\",\n",
    "    \"database\": \"HOL_DB\",\n",
    "    \"schema\": \"PUBLIC\",\n",
    "    \"warehouse\": \"HOL_WH\"\n",
    "    }\n",
    "session = Session.builder.configs(connection_parameters).create()"
   ]
  },
  {
   "cell_type": "markdown",
   "id": "43b2c05f-6399-470e-bb36-ce0aefb8815f",
   "metadata": {},
   "source": [
    "## Load HOL data"
   ]
  },
  {
   "cell_type": "code",
   "execution_count": null,
   "id": "96537f61-eef2-4789-80c3-9c5390c2241f",
   "metadata": {},
   "outputs": [],
   "source": [
    "# Loading from local CSV-files\n",
    "city_udi_df = pd.read_csv('city_udi.csv')\n",
    "humidity_df = pd.read_csv('humidity.csv')\n",
    "maintenance_df = pd.read_csv('maintenance.csv')"
   ]
  },
  {
   "cell_type": "code",
   "execution_count": null,
   "id": "9b2b9bac-1a7e-49e4-9a70-ae49fb2f1aea",
   "metadata": {},
   "outputs": [],
   "source": [
    "# Upload to Snowflake\n",
    "session.write_pandas(city_udi_df, table_name='CITY_UDF', auto_create_table=True, overwrite=True)\n",
    "session.write_pandas(humidity_df, table_name='HUMIDITY', auto_create_table=True, overwrite=True)\n",
    "session.write_pandas(maintenance_df, table_name='MAINTENANCE', auto_create_table=True, overwrite=True)"
   ]
  }
 ],
 "metadata": {
  "instance_type": "ml.g4dn.xlarge",
  "kernelspec": {
   "display_name": "Python 3.8.16 64-bit ('3.8.16')",
   "language": "python",
   "name": "python3"
  },
  "language_info": {
   "codemirror_mode": {
    "name": "ipython",
    "version": 3
   },
   "file_extension": ".py",
   "mimetype": "text/x-python",
   "name": "python",
   "nbconvert_exporter": "python",
   "pygments_lexer": "ipython3",
   "version": "3.8.16"
  },
  "vscode": {
   "interpreter": {
    "hash": "5fd6d4fb3c08fc5d7d728624ab3ef85b5c959e6234d2114f093f7c9f5bf2afa2"
   }
  }
 },
 "nbformat": 4,
 "nbformat_minor": 5
}
